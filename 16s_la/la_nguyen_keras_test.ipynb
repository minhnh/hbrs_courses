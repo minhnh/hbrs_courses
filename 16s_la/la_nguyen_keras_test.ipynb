{
 "cells": [
  {
   "cell_type": "code",
   "execution_count": 1,
   "metadata": {
    "collapsed": false
   },
   "outputs": [
    {
     "name": "stderr",
     "output_type": "stream",
     "text": [
      "Using Theano backend.\n"
     ]
    }
   ],
   "source": [
    "import keras\n",
    "from keras.models import  Sequential\n",
    "from keras.layers import LSTM, GRU\n",
    "\n",
    "import pandas as pd\n",
    "\n",
    "from pandas import HDFStore\n"
   ]
  },
  {
   "cell_type": "code",
   "execution_count": 2,
   "metadata": {
    "collapsed": false
   },
   "outputs": [],
   "source": [
    "model = Sequential()\n",
    "model.add(LSTM(32, input_shape=(10, 64)))\n",
    "data_dir = \"data/\"\n"
   ]
  },
  {
   "cell_type": "code",
   "execution_count": 3,
   "metadata": {
    "collapsed": false
   },
   "outputs": [
    {
     "name": "stdout",
     "output_type": "stream",
     "text": [
      "     Store  StoreType  Assortment  CompetitionDistance  \\\n",
      "74      75          3           2                22440   \n",
      "107    108          3           2                 2190   \n",
      "139    140          0           2                 1090   \n",
      "190    191          0           0                 1100   \n",
      "280    281          3           2                 6970   \n",
      "\n",
      "     CompetitionOpenSinceMonth  CompetitionOpenSinceYear  Promo2  \\\n",
      "74                          12                      2013       0   \n",
      "107                          9                      2003       0   \n",
      "139                          7                      2010       1   \n",
      "190                          8                      2013       1   \n",
      "280                          9                      2011       0   \n",
      "\n",
      "    Promo2SinceWeek Promo2SinceYear    PromoInterval  \n",
      "74              NaN             NaN              NaN  \n",
      "107             NaN             NaN              NaN  \n",
      "139               1            2013  Jan,Apr,Jul,Oct  \n",
      "190              40            2014  Jan,Apr,Jul,Oct  \n",
      "280             NaN             NaN              NaN  \n",
      "\n",
      "[5 rows x 10 columns]\n"
     ]
    }
   ],
   "source": [
    "hdf = HDFStore(data_dir + \"data_15_stores.hd5\")\n",
    "\n",
    "print(hdf['store_data'][:5])"
   ]
  },
  {
   "cell_type": "code",
   "execution_count": 4,
   "metadata": {
    "collapsed": false
   },
   "outputs": [
    {
     "name": "stdout",
     "output_type": "stream",
     "text": [
      "Empty DataFrame\n",
      "Columns: [Id, Store, DayOfWeek, Date, Open, Promo, StateHoliday, SchoolHoliday]\n",
      "Index: []\n",
      "\n",
      "[0 rows x 8 columns]\n"
     ]
    }
   ],
   "source": [
    "print(hdf['test_data'].loc[hdf['test_data']['Store'] == 65].loc[hdf['test_data']['StateHoliday'] != 0])"
   ]
  },
  {
   "cell_type": "code",
   "execution_count": 21,
   "metadata": {
    "collapsed": false
   },
   "outputs": [
    {
     "name": "stdout",
     "output_type": "stream",
     "text": [
      "(2015, 31, 5)\n",
      "      Store  StoreType  Assortment  CompetitionDistance  \\\n",
      "64       65          0           2                13840   \n",
      "231     232          2           2                13570   \n",
      "282     283          0           0                 2260   \n",
      "455     456          0           2                  140   \n",
      "470     471          3           0                 5300   \n",
      "504     505          0           0                  350   \n",
      "612     613          2           0                  250   \n",
      "633     634          3           0                18610   \n",
      "815     816          2           2                  460   \n",
      "873     874          0           0                 3210   \n",
      "896     897          2           2                 3290   \n",
      "909     910          3           2                12480   \n",
      "997     998          0           0                  780   \n",
      "1097   1098          0           0                 1830   \n",
      "\n",
      "      CompetitionOpenSinceMonth  CompetitionOpenSinceYear  Promo2  \\\n",
      "64                            5                      2010       1   \n",
      "231                           5                      2010       1   \n",
      "282                         NaN                       NaN       1   \n",
      "455                         NaN                       NaN       0   \n",
      "470                         NaN                       NaN       1   \n",
      "504                         NaN                       NaN       1   \n",
      "612                           6                      2007       1   \n",
      "633                         NaN                       NaN       0   \n",
      "815                         NaN                       NaN       0   \n",
      "873                         NaN                       NaN       0   \n",
      "896                           1                      2007       1   \n",
      "909                         NaN                       NaN       1   \n",
      "997                           9                      2005       1   \n",
      "1097                         11                      2004       0   \n",
      "\n",
      "     Promo2SinceWeek Promo2SinceYear     PromoInterval  \n",
      "64                 1            2012   Jan,Apr,Jul,Oct  \n",
      "231               10            2013  Mar,Jun,Sept,Dec  \n",
      "282               40            2014   Jan,Apr,Jul,Oct  \n",
      "455              NaN             NaN               NaN  \n",
      "470               45            2009   Feb,May,Aug,Nov  \n",
      "504                5            2013   Feb,May,Aug,Nov  \n",
      "612               14            2011   Jan,Apr,Jul,Oct  \n",
      "633              NaN             NaN               NaN  \n",
      "815              NaN             NaN               NaN  \n",
      "873              NaN             NaN               NaN  \n",
      "896                5            2013   Feb,May,Aug,Nov  \n",
      "909                1            2013   Jan,Apr,Jul,Oct  \n",
      "997                5            2013   Feb,May,Aug,Nov  \n",
      "1097             NaN             NaN               NaN  \n",
      "\n",
      "[14 rows x 10 columns]\n",
      "              Date  StateHoliday\n",
      "74769   2015-05-25             1\n",
      "87034   2015-05-14             1\n",
      "101529  2015-05-01             1\n",
      "129404  2015-04-06             2\n",
      "132749  2015-04-03             2\n",
      "229754  2015-01-06             1\n",
      "235329  2015-01-01             1\n",
      "241109  2014-12-26             3\n",
      "242044  2014-12-25             3\n",
      "293469  2014-10-31             1\n",
      "319649  2014-10-03             1\n",
      "431899  2014-06-09             1\n",
      "444164  2014-05-29             1\n",
      "475384  2014-05-01             1\n",
      "486534  2014-04-21             2\n",
      "489879  2014-04-18             2\n",
      "603609  2014-01-06             1\n",
      "609184  2014-01-01             1\n",
      "615874  2013-12-26             3\n",
      "616989  2013-12-25             3\n",
      "678314  2013-10-31             1\n",
      "709534  2013-10-03             1\n",
      "861174  2013-05-20             1\n",
      "873439  2013-05-09             1\n",
      "882359  2013-05-01             1\n",
      "915809  2013-04-01             2\n",
      "919154  2013-03-29             2\n",
      "1010584 2013-01-06             1\n",
      "1016159 2013-01-01             1\n",
      "\n",
      "[29 rows x 2 columns]\n"
     ]
    }
   ],
   "source": [
    "print(hdf['train_data']['Date'].iloc[0].isocalendar())\n",
    "\n",
    "Assortment = {'a': 0, 'b': 1, 'c': 2}\n",
    "StoreType = {'a': 0,'b': 1,'c': 2, 'd': 3}\n",
    "\n",
    "_REPLACE_DICT_STORE = {\n",
    "    'Assortment' : {'a': 0, 'b': 1, 'c': 2},\n",
    "    'StoreType' : {'a': 0,'b': 1,'c': 2, 'd': 3},\n",
    "    'StateHoliday' : {'a': 1, 'b': 2, 'c': 3, '0': 0, 0: 0}\n",
    "}\n",
    "\n",
    "print(store_data)\n",
    "\n",
    "print(hdf['train_data'][['Date', 'StateHoliday']].loc[hdf['train_data']['Store'] == 65].loc[hdf['train_data']['StateHoliday'] != 0])\n",
    "\n",
    "#print(hdf['train_data']['Date'].loc[hdf['train_data']['StateHoliday'] == 'b'].loc[hdf['train_data']['Store'] == 165])"
   ]
  },
  {
   "cell_type": "code",
   "execution_count": null,
   "metadata": {
    "collapsed": true
   },
   "outputs": [],
   "source": [
    "\"\"\"\n",
    "Would store data be part of the RNN model since it's not time-dependent? How to incorporate time-dependent\n",
    "and time-independent inputs?\n",
    "Should we eliminate closed days completely?\n",
    "WeekOfYear?\n",
    "\n",
    "\"\"\""
   ]
  }
 ],
 "metadata": {
  "kernelspec": {
   "display_name": "Python 3",
   "language": "python",
   "name": "python3"
  },
  "language_info": {
   "codemirror_mode": {
    "name": "ipython",
    "version": 3
   },
   "file_extension": ".py",
   "mimetype": "text/x-python",
   "name": "python",
   "nbconvert_exporter": "python",
   "pygments_lexer": "ipython3",
   "version": "3.4.3"
  }
 },
 "nbformat": 4,
 "nbformat_minor": 0
}
