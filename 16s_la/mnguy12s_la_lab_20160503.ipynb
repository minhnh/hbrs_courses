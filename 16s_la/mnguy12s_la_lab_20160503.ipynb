{
 "cells": [
  {
   "cell_type": "code",
   "execution_count": 57,
   "metadata": {
    "collapsed": true
   },
   "outputs": [],
   "source": [
    "# Group: Minh Nguyen & Bach Ha\n",
    "\n",
    "import numpy as np\n",
    "\n",
    "training_data = np.genfromtxt(\"training_data.txt\", dtype='str')"
   ]
  },
  {
   "cell_type": "code",
   "execution_count": 81,
   "metadata": {
    "collapsed": true
   },
   "outputs": [],
   "source": [
    "from collections import Counter\n",
    "\n",
    "# print(training_data[0][0][0])\n",
    "CHAR_DICT = Counter(\"ONETWOTHREEFOURFIVESIXSEVENEIGHTNINEZERO\")\n",
    "DIGIT_DICT = Counter(\"0123456789\")\n",
    "\n",
    "\n",
    "def count_letter(string):\n",
    "    \"\"\"\n",
    "    count number of letters in a string, expects only chars in CHAR_DICT.keys()\n",
    "    :param string: character string as from training_data\n",
    "    :return: list of ordered character counts\n",
    "    \"\"\"\n",
    "    char_dict_from_string = dict.fromkeys(CHAR_DICT.keys(), 0)\n",
    "\n",
    "    for character in string:\n",
    "        char_dict_from_string[character] += 1\n",
    "\n",
    "    char_count_list = []\n",
    "    for character in sorted(char_dict_from_string.keys()):\n",
    "        char_count_list.append(char_dict_from_string[character])\n",
    "\n",
    "    return char_count_list\n",
    "\n",
    "\n",
    "def count_digit(string):\n",
    "    \"\"\"\n",
    "    count number of digits in a string, expects only chars in DIGIT_DICT.keys()\n",
    "    :param string: number string as from training_data\n",
    "    :return: list of ordered digit counts\n",
    "    \"\"\"\n",
    "    digit_dict_from_string = dict.fromkeys(DIGIT_DICT.keys(), 0)\n",
    "\n",
    "    for digit in string:\n",
    "        digit_dict_from_string[digit] += 1\n",
    "\n",
    "    digit_count_list = []\n",
    "    for digit in sorted(digit_dict_from_string.keys()):\n",
    "        digit_count_list.append(digit_dict_from_string[digit])\n",
    "\n",
    "    # return list(digit_dict_from_string.values())\n",
    "    return digit_count_list\n",
    "\n",
    "\n",
    "def get_number_string_from_digit_counts(digit_count_list):\n",
    "    \"\"\"\n",
    "    get a string of digit from list of digit counts\n",
    "    :param digit_count_list: list of ordered digit counts\n",
    "    :return: number string as from training_data\n",
    "    \"\"\"\n",
    "    number_string = \"\"\n",
    "    for i in range(len(digit_count_list)):\n",
    "        for count in range(int(digit_count_list[i])):\n",
    "            number_string += str(i)\n",
    "\n",
    "    return number_string\n",
    "\n",
    "\n",
    "def get_prediction(string_list, estimator):\n",
    "    \"\"\"\n",
    "    run predict() on the given string using the given estimator,\n",
    "    then convert list of digit counts to a number string\n",
    "    :param string_list: list of character strings as from training_data\n",
    "    :param estimator: object with a predict() function\n",
    "    :return: list of number strings as from training_data\n",
    "    \"\"\"\n",
    "    char_count_all_lists = None\n",
    "    for string in string_list:\n",
    "        char_count_list = count_letter(string)\n",
    "        char_count_list = np.reshape(char_count_list, (1, len(char_count_list)))\n",
    "        if char_count_all_lists is None:\n",
    "            char_count_all_lists = char_count_list\n",
    "        else:\n",
    "            char_count_all_lists = np.append(char_count_all_lists,\n",
    "                                             char_count_list, axis=0)\n",
    "\n",
    "    digit_count_all_lists = np.round(estimator.predict(char_count_all_lists))\n",
    "    number_strings = []\n",
    "    for digit_count_list in digit_count_all_lists:\n",
    "        number_strings.append(get_number_string_from_digit_counts(digit_count_list))\n",
    "    return number_strings\n",
    "\n"
   ]
  },
  {
   "cell_type": "code",
   "execution_count": 88,
   "metadata": {},
   "outputs": [],
   "source": [
    "char_count_full = None\n",
    "digit_count_full = None\n",
    "for entry in training_data[:10000]:\n",
    "    digit_count = count_digit(entry[0])\n",
    "    digit_count = np.reshape(digit_count, (1, len(digit_count)))\n",
    "    char_count = count_letter(entry[1])\n",
    "    char_count = np.reshape(char_count, (1, len(char_count)))\n",
    "\n",
    "    if char_count_full is None:\n",
    "        char_count_full = char_count\n",
    "    else:\n",
    "        char_count_full = np.append(char_count_full, char_count, axis=0)\n",
    "\n",
    "    if digit_count_full is None:\n",
    "        digit_count_full = digit_count\n",
    "    else:\n",
    "        digit_count_full = np.append(digit_count_full, digit_count, axis=0)"
   ]
  },
  {
   "cell_type": "code",
   "execution_count": 89,
   "metadata": {
    "collapsed": true
   },
   "outputs": [],
   "source": [
    "from sklearn.ensemble import ExtraTreesRegressor\n",
    "from sklearn.neighbors import KNeighborsRegressor\n",
    "from sklearn.linear_model import LinearRegression\n",
    "from sklearn.linear_model import RidgeCV\n",
    "\n",
    "test_size = 20\n",
    "train_size = len(char_count_full) - test_size\n",
    "\n",
    "train_set = char_count_full[:train_size]\n",
    "train_output = digit_count_full[:train_size]\n",
    "test_set = char_count_full[train_size: train_size + test_size]\n",
    "test_true_output = digit_count_full[train_size: train_size + test_size]\n",
    "\n",
    "# Fit estimators\n",
    "ESTIMATORS = {\n",
    "    \"Extra trees\": ExtraTreesRegressor(n_estimators=10, max_features=len(CHAR_DICT.keys()),\n",
    "                                       random_state=0),\n",
    "    \"K-nn\": KNeighborsRegressor(),\n",
    "    \"Linear regression\": LinearRegression(),\n",
    "    \"Ridge\": RidgeCV(),\n",
    "}\n",
    "\n",
    "y_test_predict = dict()\n",
    "for name, estimator in ESTIMATORS.items():\n",
    "    estimator.fit(train_set, train_output)\n",
    "    y_test_predict[name] = np.round(estimator.predict(test_set))\n"
   ]
  },
  {
   "cell_type": "code",
   "execution_count": 90,
   "metadata": {
    "collapsed": false
   },
   "outputs": [
    {
     "name": "stdout",
     "output_type": "stream",
     "text": [
      "average error for  Linear regression  is  0.0 \n\naverage error for  K-nn  is  0.786067467587 \n\naverage error for  Extra trees  is  0.805317199614 \n\naverage error for  Ridge  is  0.0 \n\n"
     ]
    }
   ],
   "source": [
    "from scipy.spatial.distance import euclidean\n",
    "\n",
    "for name, prediction in y_test_predict.items():\n",
    "    error_average = 0.0\n",
    "    for i in range(len(prediction)):\n",
    "        error_average += euclidean(prediction[i], test_true_output[i])\n",
    "    error_average /= len(prediction)\n",
    "    print(\"average error for \", name, \" is \", error_average, \"\\n\")"
   ]
  },
  {
   "cell_type": "code",
   "execution_count": 91,
   "metadata": {},
   "outputs": [
    {
     "name": "stdout",
     "output_type": "stream",
     "text": [
      "actual numbers:          00367777799\nprediction    :         001356777789\n\nactual numbers:          11223666899\nprediction    :           1223666899\n\nactual numbers:          01233566689\nprediction    :          01233566689\n\nactual numbers:          00023455789\nprediction    :          00023455789\n\nactual numbers:          02233467899\nprediction    :          01223346789\n\nactual numbers:          24445566789\nprediction    :           4445566789\n\nactual numbers:           0134556777\nprediction    :          01345567779\n\nactual numbers:          02468888999\nprediction    :            026888899\n\nactual numbers:          23346677779\nprediction    :           1235667777\n\nactual numbers:          01112333679\nprediction    :          01112333679\n\n"
     ]
    }
   ],
   "source": [
    "new_test_size = 10\n",
    "new_train_set = training_data[len(char_count_full): len(char_count_full) + new_test_size]\n",
    "\n",
    "tree_prediction = get_prediction(new_train_set[:, 1], ESTIMATORS[\"Extra trees\"])\n",
    "\n",
    "for i in range(new_test_size):\n",
    "    print(\"actual numbers: %20s\\nprediction    : %20s\\n\"\n",
    "          % (new_train_set[i, 0], tree_prediction[i]))\n"
   ]
  },
  {
   "cell_type": "code",
   "execution_count": 92,
   "metadata": {
    "collapsed": false
   },
   "outputs": [
    {
     "name": "stdout",
     "output_type": "stream",
     "text": [
      "actual numbers:          00367777799\nprediction    :          00367777799\n\nactual numbers:          11223666899\nprediction    :          11223666899\n\nactual numbers:          01233566689\nprediction    :          01233566689\n\nactual numbers:          00023455789\nprediction    :          00023455789\n\nactual numbers:          02233467899\nprediction    :          02233467899\n\nactual numbers:          24445566789\nprediction    :          24445566789\n\nactual numbers:           0134556777\nprediction    :           0134556777\n\nactual numbers:          02468888999\nprediction    :          02468888999\n\nactual numbers:          23346677779\nprediction    :          23346677779\n\nactual numbers:          01112333679\nprediction    :          01112333679\n\n"
     ]
    }
   ],
   "source": [
    "linear_prediction = get_prediction(new_train_set[:, 1], ESTIMATORS[\"Linear regression\"])\n",
    "\n",
    "for i in range(new_test_size):\n",
    "    print(\"actual numbers: %20s\\nprediction    : %20s\\n\"\n",
    "          % (new_train_set[i, 0], linear_prediction[i]))\n"
   ]
  },
  {
   "cell_type": "code",
   "execution_count": 93,
   "metadata": {
    "collapsed": false
   },
   "outputs": [
    {
     "name": "stdout",
     "output_type": "stream",
     "text": [
      "actual numbers:          00367777799\nprediction    :          01346777789\n\nactual numbers:          11223666899\nprediction    :          11226668899\n\nactual numbers:          01233566689\nprediction    :          01233566689\n\nactual numbers:          00023455789\nprediction    :           0023455789\n\nactual numbers:          02233467899\nprediction    :          01223346789\n\nactual numbers:          24445566789\nprediction    :          24445566789\n\nactual numbers:           0134556777\nprediction    :           0134556777\n\nactual numbers:          02468888999\nprediction    :          01246888899\n\nactual numbers:          23346677779\nprediction    :         123346677779\n\nactual numbers:          01112333679\nprediction    :           0111233679\n\n"
     ]
    }
   ],
   "source": [
    "knn_prediction = get_prediction(new_train_set[:, 1], ESTIMATORS[\"K-nn\"])\n",
    "\n",
    "for i in range(new_test_size):\n",
    "    print(\"actual numbers: %20s\\nprediction    : %20s\\n\"\n",
    "          % (new_train_set[i, 0], knn_prediction[i]))\n"
   ]
  },
  {
   "cell_type": "code",
   "execution_count": 94,
   "metadata": {
    "collapsed": false
   },
   "outputs": [
    {
     "name": "stdout",
     "output_type": "stream",
     "text": [
      "actual numbers:          00367777799\nprediction    :          00367777799\n\nactual numbers:          11223666899\nprediction    :          11223666899\n\nactual numbers:          01233566689\nprediction    :          01233566689\n\nactual numbers:          00023455789\nprediction    :          00023455789\n\nactual numbers:          02233467899\nprediction    :          02233467899\n\nactual numbers:          24445566789\nprediction    :          24445566789\n\nactual numbers:           0134556777\nprediction    :           0134556777\n\nactual numbers:          02468888999\nprediction    :          02468888999\n\nactual numbers:          23346677779\nprediction    :          23346677779\n\nactual numbers:          01112333679\nprediction    :          01112333679\n\n"
     ]
    }
   ],
   "source": [
    "ridge_prediction = get_prediction(new_train_set[:, 1], ESTIMATORS[\"Ridge\"])\n",
    "\n",
    "for i in range(new_test_size):\n",
    "    print(\"actual numbers: %20s\\nprediction    : %20s\\n\"\n",
    "          % (new_train_set[i, 0], ridge_prediction[i]))\n"
   ]
  }
 ],
 "metadata": {
  "kernelspec": {
   "display_name": "Python 2",
   "language": "python",
   "name": "python2"
  },
  "language_info": {
   "codemirror_mode": {
    "name": "ipython",
    "version": 2.0
   },
   "file_extension": ".py",
   "mimetype": "text/x-python",
   "name": "python",
   "nbconvert_exporter": "python",
   "pygments_lexer": "ipython2",
   "version": "2.7.6"
  }
 },
 "nbformat": 4,
 "nbformat_minor": 0
}