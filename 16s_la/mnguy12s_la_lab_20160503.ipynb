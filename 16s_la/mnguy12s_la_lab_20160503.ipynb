{
 "cells": [
  {
   "cell_type": "code",
   "execution_count": 2,
   "metadata": {
    "collapsed": true
   },
   "outputs": [],
   "source": [
    "# Group: Minh Nguyen & Bach Ha\n",
    "\n",
    "import numpy as np\n",
    "\n",
    "training_data = np.genfromtxt(\"training_data.txt\", dtype='str')"
   ]
  },
  {
   "cell_type": "code",
   "execution_count": 16,
   "metadata": {
    "collapsed": true
   },
   "outputs": [],
   "source": [
    "from collections import Counter\n",
    "\n",
    "# print(training_data[0][0][0])\n",
    "CHAR_DICT = Counter(\"ONETWOTHREEFOURFIVESIXSEVENEIGHTNINEZERO\")\n",
    "DIGIT_DICT = Counter(\"0123456789\")\n",
    "\n",
    "\n",
    "def count_letter(string):\n",
    "    \"\"\"\n",
    "    count number of letters in a string, expects only chars in CHAR_DICT.keys()\n",
    "    NOTE: for some reason returning a dictionary achieve better result than \n",
    "    returning a list\n",
    "    :param string: character string as from training_data\n",
    "    :return: \n",
    "    \"\"\"\n",
    "    char_dict_from_string = Counter(string)\n",
    "\n",
    "    for character in CHAR_DICT:\n",
    "        if character not in char_dict_from_string:\n",
    "            char_dict_from_string[character] = 0\n",
    "\n",
    "    #return list(char_dict_from_string.values())\n",
    "    return char_dict_from_string\n",
    "\n",
    "\n",
    "def count_digit(string):\n",
    "    \"\"\"\n",
    "    count number of digits in a string, expects only chars in DIGIT_DICT.keys()\n",
    "    :param string: number string as from training_data\n",
    "    :return: \n",
    "    \"\"\"\n",
    "    digit_dict_from_string = Counter(string)\n",
    "\n",
    "    for digit in DIGIT_DICT:\n",
    "        if digit not in digit_dict_from_string:\n",
    "            digit_dict_from_string[digit] = 0\n",
    "\n",
    "    #return list(digit_dict_from_string.values())\n",
    "    return digit_dict_from_string\n",
    "\n",
    "\n",
    "def get_number_string_from_digit_counts(prediction):\n",
    "    \"\"\"\n",
    "    \n",
    "    :param prediction: \n",
    "    :return: \n",
    "    \"\"\"\n",
    "    digit_dict = dict()\n",
    "\n",
    "    index = 0\n",
    "    for digit in DIGIT_DICT.keys():\n",
    "        digit_dict[digit] = prediction[index]\n",
    "        index += 1\n",
    "\n",
    "    number_string = \"\"\n",
    "    for digit in sorted(digit_dict.keys()):\n",
    "        for count in range(int(digit_dict[digit])):\n",
    "            number_string += digit\n",
    "\n",
    "    return number_string\n",
    "\n",
    "\n",
    "def get_prediction(string_list, estimator):\n",
    "    \"\"\"\n",
    "    \n",
    "    :param string_list: \n",
    "    :param estimator: \n",
    "    :return: \n",
    "    \"\"\"\n",
    "    char_count_all_lists = None\n",
    "    for string in string_list:\n",
    "        char_count_list = list(count_letter(string).values())\n",
    "        char_count_list = np.reshape(char_count_list, (1, len(char_count_list)))\n",
    "        if char_count_all_lists is None:\n",
    "            char_count_all_lists = char_count_list\n",
    "        else:\n",
    "            char_count_all_lists = np.append(char_count_all_lists,\n",
    "                                             char_count_list, axis=0)\n",
    "\n",
    "    digit_count_all_lists = estimator.predict(char_count_all_lists)\n",
    "    number_strings = []\n",
    "    for digit_count_list in digit_count_all_lists:\n",
    "        number_strings.append(get_number_string_from_digit_counts(digit_count_list))\n",
    "    return number_strings\n",
    "\n",
    "\n",
    "def compare_result(prediction, actual_output):\n",
    "    \"\"\"\n",
    "    \n",
    "    :param prediction: \n",
    "    :param actual_output: \n",
    "    :return: \n",
    "    \"\"\"\n",
    "    for i in range(len(prediction)):\n",
    "        print(\"prediction \", get_number_string_from_digit_counts(prediction[i]),\n",
    "              \" actual: \", actual_output[i])"
   ]
  },
  {
   "cell_type": "code",
   "execution_count": 9,
   "metadata": {},
   "outputs": [],
   "source": [
    "char_count_full = None\n",
    "digit_count_full = None\n",
    "for entry in training_data[:50000]:\n",
    "    digit_count = list(count_digit(entry[0]).values())\n",
    "    digit_count = np.reshape(digit_count, (1, len(digit_count)))\n",
    "    char_count = list(count_letter(entry[1]).values())\n",
    "    char_count = np.reshape(char_count, (1, len(char_count)))\n",
    "\n",
    "    if char_count_full is None:\n",
    "        char_count_full = char_count\n",
    "    else:\n",
    "        char_count_full = np.append(char_count_full, char_count, axis=0)\n",
    "\n",
    "    if digit_count_full is None:\n",
    "        digit_count_full = digit_count\n",
    "    else:\n",
    "        digit_count_full = np.append(digit_count_full, digit_count, axis=0)"
   ]
  },
  {
   "cell_type": "code",
   "execution_count": 10,
   "metadata": {
    "collapsed": true
   },
   "outputs": [],
   "source": [
    "from sklearn.ensemble import ExtraTreesRegressor\n",
    "from sklearn.neighbors import KNeighborsRegressor\n",
    "from sklearn.linear_model import LinearRegression\n",
    "from sklearn.linear_model import RidgeCV\n",
    "\n",
    "test_size = 20\n",
    "train_size = len(char_count_full) - test_size\n",
    "\n",
    "train_set = char_count_full[:train_size]\n",
    "train_output = digit_count_full[:train_size]\n",
    "test_set = char_count_full[train_size: train_size + test_size]\n",
    "test_true_output = digit_count_full[train_size: train_size + test_size]\n",
    "\n",
    "# Fit estimators\n",
    "ESTIMATORS = {\n",
    "    \"Extra trees\": ExtraTreesRegressor(n_estimators=10, max_features=len(CHAR_DICT.keys()),\n",
    "                                       random_state=0),\n",
    "    \"K-nn\": KNeighborsRegressor(),\n",
    "    \"Linear regression\": LinearRegression(),\n",
    "    \"Ridge\": RidgeCV(),\n",
    "}\n",
    "\n",
    "y_test_predict = dict()\n",
    "for name, estimator in ESTIMATORS.items():\n",
    "    estimator.fit(train_set, train_output)\n",
    "    y_test_predict[name] = np.round(estimator.predict(test_set))"
   ]
  },
  {
   "cell_type": "code",
   "execution_count": 68,
   "metadata": {
    "collapsed": true
   },
   "outputs": [],
   "source": [
    ""
   ]
  },
  {
   "cell_type": "code",
   "execution_count": 11,
   "metadata": {
    "collapsed": false
   },
   "outputs": [
    {
     "name": "stdout",
     "output_type": "stream",
     "text": [
      "average error for  Linear regression  is  2.17588794126 \n\naverage error for  K-nn  is  1.25694789398 \n\naverage error for  Extra trees  is  0.752287965328 \n\naverage error for  Ridge  is  2.17588794126 \n\n"
     ]
    }
   ],
   "source": [
    "from scipy.spatial.distance import euclidean\n",
    "\n",
    "for name, prediction in y_test_predict.items():\n",
    "    error_average = 0.0\n",
    "    for i in range(len(prediction)):\n",
    "        error_average += euclidean(prediction[i], test_true_output[i])\n",
    "    error_average /= len(prediction)\n",
    "    print(\"average error for \", name, \" is \", error_average, \"\\n\")"
   ]
  },
  {
   "cell_type": "code",
   "execution_count": 17,
   "metadata": {
    "collapsed": false
   },
   "outputs": [
    {
     "name": "stdout",
     "output_type": "stream",
     "text": [
      "prediction  001335567788  actual:  01333567778\nprediction  1223456889  actual:  11234556789\nprediction  11334566789  actual:  11335556679\nprediction  02235567889  actual:  01257778889\nprediction  11334566889  actual:  11355667899\nprediction  00234556789  actual:  00124577789\nprediction  12344467889  actual:  01244455899\nprediction  0223345678  actual:  01223345788\nprediction  0123556789  actual:  01122556779\nprediction  01123456689  actual:  01235556679\nprediction  001234456689  actual:  00011345669\nprediction  12234556789  actual:  11222345677\nprediction  11233568899  actual:  11125679999\nprediction  0013346789  actual:  0011123459\nprediction  002233566788  actual:  00223678899\nprediction  23345567889  actual:  13345577889\nprediction  11234456689  actual:  12234555667\nprediction  112344566689  actual:  12345556669\nprediction  0123467889  actual:  00112455688\nprediction  01123345668  actual:  0233456678\n"
     ]
    }
   ],
   "source": [
    "training_data_test_portion = training_data[train_size: train_size + test_size]\n",
    "compare_result(y_test_predict[\"Linear regression\"], training_data_test_portion[:, 0])"
   ]
  },
  {
   "cell_type": "code",
   "execution_count": 15,
   "metadata": {
    "collapsed": false
   },
   "outputs": [
    {
     "name": "stdout",
     "output_type": "stream",
     "text": [
      "prediction  0133356778  actual:  01333567778\nprediction  11234556778  actual:  11234556789\nprediction  11133566899  actual:  11335556679\nprediction  02223555789  actual:  01257778889\nprediction  11344556678  actual:  11355667899\nprediction  00245557889  actual:  00124577789\nprediction  02334447889  actual:  01244455899\nprediction  02233455778  actual:  01223345788\nprediction  01122355699  actual:  01122556779\nprediction  01112356689  actual:  01235556679\nprediction  00011346689  actual:  00011345669\nprediction  11222345569  actual:  11222345677\nprediction  1233335699  actual:  11125679999\nprediction  0034667889  actual:  0011123459\nprediction  00122346788  actual:  00223678899\nprediction  22334556889  actual:  13345577889\nprediction  1122456699  actual:  12234555667\nprediction  12346668999  actual:  12345556669\nprediction  00123468899  actual:  00112455688\nprediction  0123346678  actual:  0233456678\n"
     ]
    }
   ],
   "source": [
    "compare_result(y_test_predict[\"Extra trees\"], training_data_test_portion[:, 0])"
   ]
  },
  {
   "cell_type": "code",
   "execution_count": 77,
   "metadata": {
    "collapsed": false
   },
   "outputs": [
    {
     "name": "stdout",
     "output_type": "stream",
     "text": [
      "prediction  01223458999  actual:  02234589999\n",
      "prediction  02223466799  actual:  02223466799\n",
      "prediction  00122355889  actual:  00122355889\n",
      "prediction  00122556889  actual:  00122556889\n",
      "prediction  01233367789  actual:  01233367789\n",
      "prediction  12244666789  actual:  22446667899\n",
      "prediction  01223556899  actual:  01223556899\n",
      "prediction  12234557789  actual:  12234557789\n",
      "prediction  02233444569  actual:  03344468889\n",
      "prediction  0111223456  actual:  01111223456\n",
      "prediction  01223346679  actual:  01334667889\n",
      "prediction  12223345789  actual:  12223345789\n",
      "prediction  01236667899  actual:  01236667899\n",
      "prediction  01235567899  actual:  01235567899\n",
      "prediction  0223334466  actual:  01333446688\n",
      "prediction  00112345788  actual:  00112345788\n",
      "prediction  01233566779  actual:  01233566779\n",
      "prediction  12245667779  actual:  14566777889\n",
      "prediction  01234456688  actual:  01234456688\n",
      "prediction  0123446778  actual:  01234446778\n"
     ]
    }
   ],
   "source": [
    "compare_result(y_test_predict[\"K-nn\"], training_data_test_portion[:, 0])"
   ]
  },
  {
   "cell_type": "code",
   "execution_count": 78,
   "metadata": {
    "collapsed": false
   },
   "outputs": [
    {
     "name": "stdout",
     "output_type": "stream",
     "text": [
      "prediction  02234589999  actual:  02234589999\n",
      "prediction  02234667899  actual:  02223466799\n",
      "prediction  00122355889  actual:  00122355889\n",
      "prediction  00122556889  actual:  00122556889\n",
      "prediction  01233367789  actual:  01233367789\n",
      "prediction  22446667899  actual:  22446667899\n",
      "prediction  01223556899  actual:  01223556899\n",
      "prediction  12234557789  actual:  12234557789\n",
      "prediction  02233444689  actual:  03344468889\n",
      "prediction  01111223456  actual:  01111223456\n",
      "prediction  01233466789  actual:  01334667889\n",
      "prediction  12233457889  actual:  12223345789\n",
      "prediction  01236667899  actual:  01236667899\n",
      "prediction  01235567899  actual:  01235567899\n",
      "prediction  01233344668  actual:  01333446688\n",
      "prediction  00112234578  actual:  00112345788\n",
      "prediction  01233566779  actual:  01233566779\n",
      "prediction  12456677789  actual:  14566777889\n",
      "prediction  01223445668  actual:  01234456688\n",
      "prediction  01234446778  actual:  01234446778\n"
     ]
    }
   ],
   "source": [
    "compare_result(y_test_predict[\"Ridge\"], training_data_test_portion[:, 0])"
   ]
  }
 ],
 "metadata": {
  "kernelspec": {
   "display_name": "Python 2",
   "language": "python",
   "name": "python2"
  },
  "language_info": {
   "codemirror_mode": {
    "name": "ipython",
    "version": 2.0
   },
   "file_extension": ".py",
   "mimetype": "text/x-python",
   "name": "python",
   "nbconvert_exporter": "python",
   "pygments_lexer": "ipython2",
   "version": "2.7.6"
  }
 },
 "nbformat": 4,
 "nbformat_minor": 0
}