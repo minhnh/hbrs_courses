{
 "cells": [
  {
   "cell_type": "code",
   "execution_count": 2,
   "metadata": {
    "collapsed": true
   },
   "outputs": [],
   "source": [
    "# Group: Minh Nguyen & Bach Ha\n",
    "\n",
    "import numpy as np\n",
    "\n",
    "training_data = np.genfromtxt(\"training_data.txt\", dtype='str')"
   ]
  },
  {
   "cell_type": "code",
   "execution_count": 50,
   "metadata": {
    "collapsed": true
   },
   "outputs": [],
   "source": [
    "from collections import Counter\n",
    "\n",
    "# print(training_data[0][0][0])\n",
    "CHAR_DICT = Counter(\"ONETWOTHREEFOURFIVESIXSEVENEIGHTNINEZERO\")\n",
    "DIGIT_DICT = Counter(\"0123456789\")\n",
    "\n",
    "\n",
    "def count_letter(string):\n",
    "    \"\"\"\n",
    "    count number of letters in a string, expects only chars in CHAR_DICT.keys()\n",
    "    :param string: character string as from training_data\n",
    "    :return: list of ordered character counts\n",
    "    \"\"\"\n",
    "    char_dict_from_string = dict.fromkeys(CHAR_DICT.keys(), 0)\n",
    "\n",
    "    for character in string:\n",
    "        char_dict_from_string[character] += 1\n",
    "\n",
    "    char_count_list = []\n",
    "    for character in sorted(char_dict_from_string.keys()):\n",
    "        char_count_list.append(char_dict_from_string[character])\n",
    "\n",
    "    return char_count_list\n",
    "\n",
    "\n",
    "def count_digit(string):\n",
    "    \"\"\"\n",
    "    count number of digits in a string, expects only chars in DIGIT_DICT.keys()\n",
    "    :param string: number string as from training_data\n",
    "    :return: list of ordered digit counts\n",
    "    \"\"\"\n",
    "    digit_dict_from_string = dict.fromkeys(DIGIT_DICT.keys(), 0)\n",
    "\n",
    "    for digit in string:\n",
    "        digit_dict_from_string[digit] += 1\n",
    "\n",
    "    digit_count_list = []\n",
    "    for digit in sorted(digit_dict_from_string.keys()):\n",
    "        digit_count_list.append(digit_dict_from_string[digit])\n",
    "\n",
    "    # return list(digit_dict_from_string.values())\n",
    "    return digit_count_list\n",
    "\n",
    "\n",
    "def get_number_string_from_digit_counts(digit_count_list):\n",
    "    \"\"\"\n",
    "    get a string of digit from list of digit counts\n",
    "    :param digit_count_list: \n",
    "    :return: \n",
    "    \"\"\"\n",
    "    number_string = \"\"\n",
    "    for i in range(len(digit_count_list)):\n",
    "        for count in range(int(digit_count_list[i])):\n",
    "            number_string += str(i)\n",
    "\n",
    "    return number_string\n",
    "\n",
    "\n",
    "def get_prediction(string_list, estimator):\n",
    "    \"\"\"\n",
    "    \n",
    "    :param string_list: \n",
    "    :param estimator: \n",
    "    :return: \n",
    "    \"\"\"\n",
    "    char_count_all_lists = None\n",
    "    for string in string_list:\n",
    "        char_count_list = count_letter(string)\n",
    "        char_count_list = np.reshape(char_count_list, (1, len(char_count_list)))\n",
    "        if char_count_all_lists is None:\n",
    "            char_count_all_lists = char_count_list\n",
    "        else:\n",
    "            char_count_all_lists = np.append(char_count_all_lists,\n",
    "                                             char_count_list, axis=0)\n",
    "\n",
    "    digit_count_all_lists = estimator.predict(char_count_all_lists)\n",
    "    number_strings = []\n",
    "    for digit_count_list in digit_count_all_lists:\n",
    "        number_strings.append(get_number_string_from_digit_counts(digit_count_list))\n",
    "    return number_strings\n",
    "\n",
    "\n",
    "def compare_result(prediction, actual_output):\n",
    "    \"\"\"\n",
    "    \n",
    "    :param prediction: \n",
    "    :param actual_output: \n",
    "    :return: \n",
    "    \"\"\"\n",
    "    for i in range(len(prediction)):\n",
    "        print(\"prediction \", get_number_string_from_digit_counts(prediction[i]),\n",
    "              \" actual: \", actual_output[i])"
   ]
  },
  {
   "cell_type": "code",
   "execution_count": 46,
   "metadata": {},
   "outputs": [],
   "source": [
    "char_count_full = None\n",
    "digit_count_full = None\n",
    "for entry in training_data[:10000]:\n",
    "    digit_count = count_digit(entry[0])\n",
    "    digit_count = np.reshape(digit_count, (1, len(digit_count)))\n",
    "    char_count = count_letter(entry[1])\n",
    "    char_count = np.reshape(char_count, (1, len(char_count)))\n",
    "\n",
    "    if char_count_full is None:\n",
    "        char_count_full = char_count\n",
    "    else:\n",
    "        char_count_full = np.append(char_count_full, char_count, axis=0)\n",
    "\n",
    "    if digit_count_full is None:\n",
    "        digit_count_full = digit_count\n",
    "    else:\n",
    "        digit_count_full = np.append(digit_count_full, digit_count, axis=0)"
   ]
  },
  {
   "cell_type": "code",
   "execution_count": 47,
   "metadata": {
    "collapsed": true
   },
   "outputs": [],
   "source": [
    "from sklearn.ensemble import ExtraTreesRegressor\n",
    "from sklearn.neighbors import KNeighborsRegressor\n",
    "from sklearn.linear_model import LinearRegression\n",
    "from sklearn.linear_model import RidgeCV\n",
    "\n",
    "test_size = 20\n",
    "train_size = len(char_count_full) - test_size\n",
    "\n",
    "train_set = char_count_full[:train_size]\n",
    "train_output = digit_count_full[:train_size]\n",
    "test_set = char_count_full[train_size: train_size + test_size]\n",
    "test_true_output = digit_count_full[train_size: train_size + test_size]\n",
    "\n",
    "# Fit estimators\n",
    "ESTIMATORS = {\n",
    "    \"Extra trees\": ExtraTreesRegressor(n_estimators=10, max_features=len(CHAR_DICT.keys()),\n",
    "                                       random_state=0),\n",
    "    \"K-nn\": KNeighborsRegressor(),\n",
    "    \"Linear regression\": LinearRegression(),\n",
    "    \"Ridge\": RidgeCV(),\n",
    "}\n",
    "\n",
    "y_test_predict = dict()\n",
    "for name, estimator in ESTIMATORS.items():\n",
    "    estimator.fit(train_set, train_output)\n",
    "    y_test_predict[name] = np.round(estimator.predict(test_set))"
   ]
  },
  {
   "cell_type": "code",
   "execution_count": 51,
   "metadata": {
    "collapsed": true
   },
   "outputs": [
    {
     "name": "stdout",
     "output_type": "stream",
     "text": [
      "00367777799\n[2, 0, 0, 1, 0, 0, 1, 5, 0, 2]\n00367777799\n['00367777799' '11223666899' '01233566689' '00023455789' '02233467899'\n '24445566789' '0134556777' '02468888999' '23346677779' '01112333679']\n"
     ]
    },
    {
     "data": {
      "text/plain": [
       "['07779',\n '1226689',\n '01235668',\n '00023455789',\n '23389',\n '4455668',\n '1456777',\n '0688899',\n '366777',\n '0112337']"
      ]
     },
     "execution_count": 51,
     "metadata": {},
     "output_type": "execute_result"
    }
   ],
   "source": [
    "new_train_set = training_data[len(char_count_full): len(char_count_full) + 10]\n",
    "print(new_train_set[0, 0])\n",
    "digit_dict_from_string = dict.fromkeys(DIGIT_DICT.keys(), 0)\n",
    "print(count_digit(new_train_set[0, 0]))\n",
    "print(get_number_string_from_digit_counts(count_digit(new_train_set[0, 0])))\n",
    "print(new_train_set[:, 0])\n",
    "get_prediction(new_train_set[:, 1],\n",
    "               ESTIMATORS[\"Extra trees\"])\n"
   ]
  },
  {
   "cell_type": "code",
   "execution_count": 52,
   "metadata": {
    "collapsed": false
   },
   "outputs": [
    {
     "name": "stdout",
     "output_type": "stream",
     "text": [
      "average error for  Linear regression  is  0.0 \n\naverage error for  K-nn  is  0.786067467587 \n\naverage error for  Extra trees  is  0.805317199614 \n\naverage error for  Ridge  is  0.0 \n\n"
     ]
    }
   ],
   "source": [
    "from scipy.spatial.distance import euclidean\n",
    "\n",
    "for name, prediction in y_test_predict.items():\n",
    "    error_average = 0.0\n",
    "    for i in range(len(prediction)):\n",
    "        error_average += euclidean(prediction[i], test_true_output[i])\n",
    "    error_average /= len(prediction)\n",
    "    print(\"average error for \", name, \" is \", error_average, \"\\n\")"
   ]
  },
  {
   "cell_type": "code",
   "execution_count": 53,
   "metadata": {
    "collapsed": false
   },
   "outputs": [
    {
     "name": "stdout",
     "output_type": "stream",
     "text": [
      "prediction  11155677778  actual:  11155677778\nprediction  11133446779  actual:  11133446779\nprediction  13334677899  actual:  13334677899\nprediction  0014467889  actual:  0014467889\nprediction  11245567899  actual:  11245567899\nprediction  00223356678  actual:  00223356678\nprediction  0034455579  actual:  0034455579\nprediction  00012444566  actual:  00012444566\nprediction  12237778899  actual:  12237778899\nprediction  00123334679  actual:  00123334679\nprediction  22223555668  actual:  22223555668\nprediction  01122338889  actual:  01122338889\nprediction  11334467789  actual:  11334467789\nprediction  01344456889  actual:  01344456889\nprediction  13333478999  actual:  13333478999\nprediction  0113445679  actual:  0113445679\nprediction  01456778899  actual:  01456778899\nprediction  11346777888  actual:  11346777888\nprediction  12233334588  actual:  12233334588\nprediction  13445566788  actual:  13445566788\n"
     ]
    }
   ],
   "source": [
    "training_data_test_portion = training_data[train_size: train_size + test_size]\n",
    "compare_result(y_test_predict[\"Linear regression\"], training_data_test_portion[:, 0])"
   ]
  },
  {
   "cell_type": "code",
   "execution_count": 54,
   "metadata": {
    "collapsed": false
   },
   "outputs": [
    {
     "name": "stdout",
     "output_type": "stream",
     "text": [
      "prediction  13556777789  actual:  11155677778\nprediction  1133446779  actual:  11133446779\nprediction  13334677899  actual:  13334677899\nprediction  0014467889  actual:  0014467889\nprediction  11245567899  actual:  11245567899\nprediction  00223356678  actual:  00223356678\nprediction  00134455579  actual:  0034455579\nprediction  00023444566  actual:  00012444566\nprediction  11223777889  actual:  12237778899\nprediction  00123334679  actual:  00123334679\nprediction  12225556689  actual:  22223555668\nprediction  01122338888  actual:  01122338889\nprediction  1334467789  actual:  11334467789\nprediction  01344456889  actual:  01344456889\nprediction  01333347899  actual:  13333478999\nprediction  0113445679  actual:  0113445679\nprediction  01456778899  actual:  01456778899\nprediction  113467778889  actual:  11346777888\nprediction  122333788  actual:  12233334588\nprediction  13445566788  actual:  13445566788\n"
     ]
    }
   ],
   "source": [
    "compare_result(y_test_predict[\"Extra trees\"], training_data_test_portion[:, 0])"
   ]
  },
  {
   "cell_type": "code",
   "execution_count": 55,
   "metadata": {
    "collapsed": false
   },
   "outputs": [
    {
     "name": "stdout",
     "output_type": "stream",
     "text": [
      "prediction  011355677789  actual:  11155677778\nprediction  11133446779  actual:  11133446779\nprediction  13334677899  actual:  13334677899\nprediction  0014467889  actual:  0014467889\nprediction  01245567899  actual:  11245567899\nprediction  00223356678  actual:  00223356678\nprediction  0134455579  actual:  0034455579\nprediction  00012444566  actual:  00012444566\nprediction  11223778899  actual:  12237778899\nprediction  00123346789  actual:  00123334679\nprediction  12223555668  actual:  22223555668\nprediction  01122338889  actual:  01122338889\nprediction  1334467789  actual:  11334467789\nprediction  01344456889  actual:  01344456889\nprediction  133347899  actual:  13333478999\nprediction  0113445679  actual:  0113445679\nprediction  01456778899  actual:  01456778899\nprediction  1134677788  actual:  11346777888\nprediction  223334788  actual:  12233334588\nprediction  3445566788  actual:  13445566788\n"
     ]
    }
   ],
   "source": [
    "compare_result(y_test_predict[\"K-nn\"], training_data_test_portion[:, 0])"
   ]
  },
  {
   "cell_type": "code",
   "execution_count": 56,
   "metadata": {
    "collapsed": false
   },
   "outputs": [
    {
     "name": "stdout",
     "output_type": "stream",
     "text": [
      "prediction  11155677778  actual:  11155677778\nprediction  11133446779  actual:  11133446779\nprediction  13334677899  actual:  13334677899\nprediction  0014467889  actual:  0014467889\nprediction  11245567899  actual:  11245567899\nprediction  00223356678  actual:  00223356678\nprediction  0034455579  actual:  0034455579\nprediction  00012444566  actual:  00012444566\nprediction  12237778899  actual:  12237778899\nprediction  00123334679  actual:  00123334679\nprediction  22223555668  actual:  22223555668\nprediction  01122338889  actual:  01122338889\nprediction  11334467789  actual:  11334467789\nprediction  01344456889  actual:  01344456889\nprediction  13333478999  actual:  13333478999\nprediction  0113445679  actual:  0113445679\nprediction  01456778899  actual:  01456778899\nprediction  11346777888  actual:  11346777888\nprediction  12233334588  actual:  12233334588\nprediction  13445566788  actual:  13445566788\n"
     ]
    }
   ],
   "source": [
    "compare_result(y_test_predict[\"Ridge\"], training_data_test_portion[:, 0])"
   ]
  }
 ],
 "metadata": {
  "kernelspec": {
   "display_name": "Python 2",
   "language": "python",
   "name": "python2"
  },
  "language_info": {
   "codemirror_mode": {
    "name": "ipython",
    "version": 2.0
   },
   "file_extension": ".py",
   "mimetype": "text/x-python",
   "name": "python",
   "nbconvert_exporter": "python",
   "pygments_lexer": "ipython2",
   "version": "2.7.6"
  }
 },
 "nbformat": 4,
 "nbformat_minor": 0
}