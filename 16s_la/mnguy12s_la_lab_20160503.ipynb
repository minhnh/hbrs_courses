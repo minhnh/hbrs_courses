{
 "cells": [
  {
   "cell_type": "code",
   "execution_count": 70,
   "metadata": {
    "collapsed": true
   },
   "outputs": [],
   "source": [
    "# Group: Minh Nguyen & Bach Ha\n",
    "\n",
    "import numpy as np\n",
    "\n",
    "training_data = np.genfromtxt(\"lab/training_data.txt\", dtype='str')"
   ]
  },
  {
   "cell_type": "code",
   "execution_count": 71,
   "metadata": {
    "collapsed": true
   },
   "outputs": [],
   "source": [
    "from collections import Counter\n",
    "\n",
    "# print(training_data[0][0][0])\n",
    "CHAR_DICT = Counter(\"ONETWOTHREEFOURFIVESIXSEVENEIGHTNINEZERO\")\n",
    "DIGIT_DICT = Counter(\"0123456789\")\n",
    "\n",
    "\n",
    "def count_letter(string):\n",
    "    \"\"\"\n",
    "    \n",
    "    :param string: \n",
    "    :return: \n",
    "    \"\"\"\n",
    "    char_dict_from_string = Counter(string)\n",
    "\n",
    "    for character in CHAR_DICT:\n",
    "        if character not in char_dict_from_string:\n",
    "            char_dict_from_string[character] = 0\n",
    "\n",
    "    return list(char_dict_from_string.values())\n",
    "\n",
    "\n",
    "def count_digit(string):\n",
    "    \"\"\"\n",
    "    \n",
    "    :param string: \n",
    "    :return: \n",
    "    \"\"\"\n",
    "    digit_dict_from_string = Counter(string)\n",
    "\n",
    "    for digit in DIGIT_DICT:\n",
    "        if digit not in digit_dict_from_string:\n",
    "            digit_dict_from_string[digit] = 0\n",
    "\n",
    "    return list(digit_dict_from_string.values())\n",
    "\n",
    "\n",
    "def get_number_from_digit_counts(prediction):\n",
    "    \"\"\"\n",
    "    \n",
    "    :param prediction: \n",
    "    :return: \n",
    "    \"\"\"\n",
    "    digit_dict = dict()\n",
    "\n",
    "    index = 0\n",
    "    for digit in DIGIT_DICT.keys():\n",
    "        digit_dict[digit] = prediction[index]\n",
    "        index += 1\n",
    "\n",
    "    number_string = \"\"\n",
    "    for digit in sorted(digit_dict.keys()):\n",
    "        for count in range(int(digit_dict[digit])):\n",
    "            number_string += digit\n",
    "\n",
    "    return number_string\n",
    "\n",
    "\n",
    "def get_prediction(string, estimator):\n",
    "    digit_count_list = estimator.predict()\n",
    "    return\n",
    "\n",
    "\n",
    "def compare_result(prediction, actual_output):\n",
    "    \"\"\"\n",
    "    \n",
    "    :param prediction: \n",
    "    :param actual_output: \n",
    "    :return: \n",
    "    \"\"\"\n",
    "    for i in range(len(prediction)):\n",
    "        print(\"prediction \", get_number_from_prediction(prediction[i]),\n",
    "              \" actual: \", actual_output[i])\n",
    "\n"
   ]
  },
  {
   "cell_type": "code",
   "execution_count": 73,
   "metadata": {},
   "outputs": [],
   "source": [
    "char_count_full = None\n",
    "digit_count_full = None\n",
    "for entry in training_data[:10000]:\n",
    "    digit_count = count_digit(entry[0])\n",
    "    digit_count = np.reshape(digit_count, (1, len(digit_count)))\n",
    "    char_count = count_letter(entry[1])\n",
    "    char_count = np.reshape(char_count, (1, len(char_count)))\n",
    "\n",
    "    if char_count_full is None:\n",
    "        char_count_full = char_count\n",
    "    else:\n",
    "        char_count_full = np.append(char_count_full, char_count, axis=0)\n",
    "\n",
    "    if digit_count_full is None:\n",
    "        digit_count_full = digit_count\n",
    "    else:\n",
    "        digit_count_full = np.append(digit_count_full, digit_count, axis=0)"
   ]
  },
  {
   "cell_type": "code",
   "execution_count": 74,
   "metadata": {
    "collapsed": true
   },
   "outputs": [],
   "source": [
    "from sklearn.ensemble import ExtraTreesRegressor\n",
    "from sklearn.neighbors import KNeighborsRegressor\n",
    "from sklearn.linear_model import LinearRegression\n",
    "from sklearn.linear_model import RidgeCV\n",
    "\n",
    "test_size = 20\n",
    "train_size = len(char_count_full) - test_size\n",
    "\n",
    "train_set = char_count_full[:train_size]\n",
    "train_output = digit_count_full[:train_size]\n",
    "test_set = char_count_full[train_size: train_size + test_size]\n",
    "test_true_output = digit_count_full[train_size: train_size + test_size]\n",
    "\n",
    "# Fit estimators\n",
    "ESTIMATORS = {\n",
    "    \"Extra trees\": ExtraTreesRegressor(n_estimators=10, max_features=len(CHAR_DICT.keys()),\n",
    "                                       random_state=0),\n",
    "    \"K-nn\": KNeighborsRegressor(),\n",
    "    \"Linear regression\": LinearRegression(),\n",
    "    \"Ridge\": RidgeCV(),\n",
    "}\n",
    "\n",
    "y_test_predict = dict()\n",
    "for name, estimator in ESTIMATORS.items():\n",
    "    estimator.fit(train_set, train_output)\n",
    "    y_test_predict[name] = np.round(estimator.predict(test_set))"
   ]
  },
  {
   "cell_type": "code",
   "execution_count": 68,
   "metadata": {
    "collapsed": true
   },
   "outputs": [],
   "source": [
    ""
   ]
  },
  {
   "cell_type": "code",
   "execution_count": 75,
   "metadata": {
    "collapsed": false
   },
   "outputs": [
    {
     "name": "stdout",
     "output_type": "stream",
     "text": [
      "average error for  K-nn  is  1.8097105505 \n\naverage error for  Linear regression  is  2.55874265432 \n\naverage error for  Ridge  is  2.55874265432 \n\naverage error for  Extra trees  is  1.69166923943 \n\n"
     ]
    }
   ],
   "source": [
    "from scipy.spatial.distance import euclidean\n",
    "\n",
    "for name, prediction in y_test_predict.items():\n",
    "    error_average = 0.0\n",
    "    for i in range(len(prediction)):\n",
    "        error_average += euclidean(prediction[i], test_true_output[i])\n",
    "    error_average /= len(prediction)\n",
    "    print(\"average error for \", name, \" is \", error_average, \"\\n\")"
   ]
  },
  {
   "cell_type": "code",
   "execution_count": 75,
   "metadata": {
    "collapsed": false
   },
   "outputs": [
    {
     "name": "stdout",
     "output_type": "stream",
     "text": [
      "prediction  02234589999  actual:  02234589999\n",
      "prediction  02234667899  actual:  02223466799\n",
      "prediction  00122355889  actual:  00122355889\n",
      "prediction  00122556889  actual:  00122556889\n",
      "prediction  01233367789  actual:  01233367789\n",
      "prediction  22446667899  actual:  22446667899\n",
      "prediction  01223556899  actual:  01223556899\n",
      "prediction  12234557789  actual:  12234557789\n",
      "prediction  02233444689  actual:  03344468889\n",
      "prediction  01111223456  actual:  01111223456\n",
      "prediction  01233466789  actual:  01334667889\n",
      "prediction  12233457889  actual:  12223345789\n",
      "prediction  01236667899  actual:  01236667899\n",
      "prediction  01235567899  actual:  01235567899\n",
      "prediction  01233344668  actual:  01333446688\n",
      "prediction  00112234578  actual:  00112345788\n",
      "prediction  01233566779  actual:  01233566779\n",
      "prediction  12456677789  actual:  14566777889\n",
      "prediction  01223445668  actual:  01234456688\n",
      "prediction  01234446778  actual:  01234446778\n"
     ]
    }
   ],
   "source": [
    "\n",
    "training_data_test_portion = training_data[train_size: train_size + test_size]\n",
    "compare_result(y_test_predict[\"Linear regression\"], training_data_test_portion[:, 0])"
   ]
  },
  {
   "cell_type": "code",
   "execution_count": 76,
   "metadata": {
    "collapsed": false
   },
   "outputs": [
    {
     "name": "stdout",
     "output_type": "stream",
     "text": [
      "prediction  0223458999  actual:  02234589999\n",
      "prediction  02223466799  actual:  02223466799\n",
      "prediction  00122355889  actual:  00122355889\n",
      "prediction  00122556889  actual:  00122556889\n",
      "prediction  01233367789  actual:  01233367789\n",
      "prediction  24466678899  actual:  22446667899\n",
      "prediction  01223556899  actual:  01223556899\n",
      "prediction  12234557789  actual:  12234557789\n",
      "prediction  02223344469  actual:  03344468889\n",
      "prediction  011122346  actual:  01111223456\n",
      "prediction  01223346679  actual:  01334667889\n",
      "prediction  12223345789  actual:  12223345789\n",
      "prediction  01236667899  actual:  01236667899\n",
      "prediction  01235567899  actual:  01235567899\n",
      "prediction  0223334466  actual:  01333446688\n",
      "prediction  00112345788  actual:  00112345788\n",
      "prediction  01233566779  actual:  01233566779\n",
      "prediction  12245667779  actual:  14566777889\n",
      "prediction  01234456688  actual:  01234456688\n",
      "prediction  01234446778  actual:  01234446778\n"
     ]
    }
   ],
   "source": [
    "compare_result(y_test_predict[\"Extra trees\"], training_data_test_portion[:, 0])"
   ]
  },
  {
   "cell_type": "code",
   "execution_count": 77,
   "metadata": {
    "collapsed": false
   },
   "outputs": [
    {
     "name": "stdout",
     "output_type": "stream",
     "text": [
      "prediction  01223458999  actual:  02234589999\n",
      "prediction  02223466799  actual:  02223466799\n",
      "prediction  00122355889  actual:  00122355889\n",
      "prediction  00122556889  actual:  00122556889\n",
      "prediction  01233367789  actual:  01233367789\n",
      "prediction  12244666789  actual:  22446667899\n",
      "prediction  01223556899  actual:  01223556899\n",
      "prediction  12234557789  actual:  12234557789\n",
      "prediction  02233444569  actual:  03344468889\n",
      "prediction  0111223456  actual:  01111223456\n",
      "prediction  01223346679  actual:  01334667889\n",
      "prediction  12223345789  actual:  12223345789\n",
      "prediction  01236667899  actual:  01236667899\n",
      "prediction  01235567899  actual:  01235567899\n",
      "prediction  0223334466  actual:  01333446688\n",
      "prediction  00112345788  actual:  00112345788\n",
      "prediction  01233566779  actual:  01233566779\n",
      "prediction  12245667779  actual:  14566777889\n",
      "prediction  01234456688  actual:  01234456688\n",
      "prediction  0123446778  actual:  01234446778\n"
     ]
    }
   ],
   "source": [
    "compare_result(y_test_predict[\"K-nn\"], training_data_test_portion[:, 0])"
   ]
  },
  {
   "cell_type": "code",
   "execution_count": 78,
   "metadata": {
    "collapsed": false
   },
   "outputs": [
    {
     "name": "stdout",
     "output_type": "stream",
     "text": [
      "prediction  02234589999  actual:  02234589999\n",
      "prediction  02234667899  actual:  02223466799\n",
      "prediction  00122355889  actual:  00122355889\n",
      "prediction  00122556889  actual:  00122556889\n",
      "prediction  01233367789  actual:  01233367789\n",
      "prediction  22446667899  actual:  22446667899\n",
      "prediction  01223556899  actual:  01223556899\n",
      "prediction  12234557789  actual:  12234557789\n",
      "prediction  02233444689  actual:  03344468889\n",
      "prediction  01111223456  actual:  01111223456\n",
      "prediction  01233466789  actual:  01334667889\n",
      "prediction  12233457889  actual:  12223345789\n",
      "prediction  01236667899  actual:  01236667899\n",
      "prediction  01235567899  actual:  01235567899\n",
      "prediction  01233344668  actual:  01333446688\n",
      "prediction  00112234578  actual:  00112345788\n",
      "prediction  01233566779  actual:  01233566779\n",
      "prediction  12456677789  actual:  14566777889\n",
      "prediction  01223445668  actual:  01234456688\n",
      "prediction  01234446778  actual:  01234446778\n"
     ]
    }
   ],
   "source": [
    "compare_result(y_test_predict[\"Ridge\"], training_data_test_portion[:, 0])"
   ]
  }
 ],
 "metadata": {
  "kernelspec": {
   "display_name": "Python 2",
   "language": "python",
   "name": "python2"
  },
  "language_info": {
   "codemirror_mode": {
    "name": "ipython",
    "version": 2.0
   },
   "file_extension": ".py",
   "mimetype": "text/x-python",
   "name": "python",
   "nbconvert_exporter": "python",
   "pygments_lexer": "ipython2",
   "version": "2.7.6"
  }
 },
 "nbformat": 4,
 "nbformat_minor": 0
}