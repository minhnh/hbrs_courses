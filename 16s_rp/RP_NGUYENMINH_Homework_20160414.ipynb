{
 "cells": [
  {
   "cell_type": "markdown",
   "metadata": {},
   "source": [
    "## Robot Perception Homework\n",
    "\n",
    "Minh Nguyen\n",
    "\n",
    "Lecture date 14.04.2016\n",
    "\n",
    "---\n",
    "\n",
    "### Questions\n",
    "1. **Is the normalization process applied to the homogeneous coordinates or just the (x, y) values?**\n",
    "    - When moving the coordinates to the origin, for the homogeneous coordinates, the 1. will disappear anyway. \n",
    "    Therefore, it only makes sense to apply the normalization to (x, y) only, then transform the result to homogeneous\n",
    "    coordinates.\n",
    "2. **Why is H the eigenvector corresponding to the smallest positive singular value of matrix A?**\n",
    "    - I actually don't know\n",
    "---"
   ]
  },
  {
   "cell_type": "markdown",
   "metadata": {},
   "source": [
    "### Homework\n",
    "\n",
    "1. **Reading - Chapter 4 MVG**\n",
    "\n",
    "    <img src=\"./RP_NGUYENMINH_Homework_20160414.png\">  \n",
    "\n",
    "2. **Implement Algor 4.2**\n",
    "    (normalized DLT)\n"
   ]
  },
  {
   "cell_type": "code",
   "execution_count": null,
   "metadata": {
    "collapsed": false
   },
   "outputs": [],
   "source": [
    "import scipy as sp\n",
    "import numpy as np\n",
    "from scipy.ndimage import imread\n",
    "import matplotlib.pyplot as plt\n",
    "from scipy.spatial.distance import euclidean\n",
    "\n",
    "%matplotlib inline"
   ]
  },
  {
   "cell_type": "code",
   "execution_count": null,
   "metadata": {
    "collapsed": false
   },
   "outputs": [],
   "source": [
    "def dlt_normalized(x, x_tick):\n",
    "    '''\n",
    "    Perform normalized DLT algorithm\n",
    "\n",
    "    @param: homogeneous coordinates of similar points in 2 images, in 2D\n",
    "            numpy array format\n",
    "    @return: transform matrix\n",
    "    '''\n",
    "    # Normalize x and x_tick\n",
    "    (x_similar_transform, x_norm) = normalize(x)\n",
    "    (x_tick_similar_transform, x_tick_norm) = normalize(x_tick)\n",
    "    # DLT algorithm\n",
    "    H_norm = dlt(x_norm, x_tick_norm)\n",
    "    # Denormalize H_norm\n",
    "    H = np.dot(np.dot(np.linalg.inv(x_tick_similar_transform), H_norm), x_similar_transform)\n",
    "    return H\n",
    "\n",
    "def dlt(x, x_tick):\n",
    "    '''\n",
    "    Perform DLT algorithm\n",
    "    '''\n",
    "    # Dimension check\n",
    "    if x.shape != x_tick.shape:\n",
    "        print(\"Input arrays must have same dimensions\")\n",
    "        return None\n",
    "\n",
    "    # Construct matrix A in equation A.H = 0\n",
    "    A = None\n",
    "    zeros = np.zeros(3)\n",
    "    for i in range(len(x)):\n",
    "        # First row of A_i [0  -w'x  y'x]\n",
    "        A_i_0 = zeros\n",
    "        A_i_0 = np.append(A_i_0, - x_tick[i][2]*x[i])\n",
    "        A_i_0 = np.append(A_i_0,   x_tick[i][1]*x[i])\n",
    "        A_i_0 = A_i_0.reshape(1, len(A_i_0))\n",
    "        # Second row of A_i [w'x  0  -x'x]\n",
    "        A_i_1 = x_tick[i][2]*x[i]\n",
    "        A_i_1 = np.append(A_i_1,   zeros)\n",
    "        A_i_1 = np.append(A_i_1, - x_tick[i][0]*x[i])\n",
    "        A_i_1 = A_i_1.reshape(1, len(A_i_1))\n",
    "        # Append to A\n",
    "        if A is None:\n",
    "            A = A_i_0\n",
    "        else:\n",
    "            A = np.append(A, A_i_0, axis=0)\n",
    "        A = np.append(A, A_i_1, axis=0)\n",
    "\n",
    "    # SVD decomposition, H is the eigenvector corresponding to the\n",
    "    # smallest singular value\n",
    "    u, s, v = np.linalg.svd(A, full_matrices=False)\n",
    "    H = v[np.argmin(s)].reshape(3, 3)\n",
    "    # Divide by H[2][2] for correct scaling? Not sure why this worked\n",
    "    H = H/H[2][2]\n",
    "    return H\n",
    "\n",
    "def normalize(x):\n",
    "    # Calculate centroid of points and translate points to origin\n",
    "    centroid = np.mean(x, axis=0)\n",
    "    x_normalized = x - centroid\n",
    "    # Calculate the average distance to origin\n",
    "    scale_factor = np.mean(np.sqrt(np.sum(x_normalized**2, axis=1)))\n",
    "    # Scale factor to achieve average distance sqrt(2)\n",
    "    scale_factor = np.sqrt(2) / scale_factor\n",
    "    x_normalized = x_normalized * scale_factor\n",
    "    x_normalized = make_homog(x_normalized)\n",
    "    # Similarity transform matrix, no rotation, in the form:\n",
    "    # | s 0 t_x |\n",
    "    # | 0 s t_y |\n",
    "    # | 0 0   1 |\n",
    "    similarity_transform = np.array([[scale_factor, 0, - scale_factor * centroid[0]],\n",
    "                                     [0, scale_factor, - scale_factor * centroid[1]],\n",
    "                                     [0, 0, 1]])\n",
    "\n",
    "    return (similarity_transform, x_normalized)\n",
    "\n",
    "def make_homog(x):\n",
    "    return np.append(x, np.ones((len(x), 1)), axis=1)"
   ]
  },
  {
   "cell_type": "code",
   "execution_count": null,
   "metadata": {
    "collapsed": false
   },
   "outputs": [],
   "source": [
    "img1 = imread(\"boat/img1+points.png\")\n",
    "img2 = imread(\"boat/img2+points.png\")\n",
    "with open(\"boat/homography.txt\") as f:\n",
    "    lines = f.readlines()\n",
    "\n",
    "# Get the text coordinates\n",
    "lines[0] = lines[0][lines[0].find('[') + 1:lines[0].find(']')]\n",
    "lines[1] = lines[1][lines[1].find('[') + 1:lines[1].find(']')]\n",
    "\n",
    "# Split coordinate pairs\n",
    "lines[0] = lines[0].split(';')\n",
    "lines[1] = lines[1].split(';')\n",
    "\n",
    "# Map coordinates to 2D int arrays\n",
    "x = []\n",
    "x_tick = []\n",
    "for i in range(len(lines[0])):\n",
    "    x.append(list(map(int, lines[0][i].split(','))))\n",
    "    x_tick.append(list(map(int, lines[1][i].split(','))))\n",
    "\n",
    "x = np.array(x)\n",
    "x_tick = np.array(x_tick)"
   ]
  },
  {
   "cell_type": "code",
   "execution_count": null,
   "metadata": {
    "collapsed": false
   },
   "outputs": [],
   "source": [
    "# Calculate transformation matrix\n",
    "H = dlt_normalized(x, x_tick)\n",
    "\n",
    "print(H)\n",
    "\n",
    "x_homog = make_homog(x)\n",
    "x_tick_homog = make_homog(x_tick)\n",
    "x_tick_from_x = np.dot(H, np.transpose(x_homog[0])).reshape(1, 3)\n",
    "for x_row in x_homog[1:]:\n",
    "    x_tick_from_x = np.append(x_tick_from_x, np.dot(H, np.transpose(x_row)).reshape(1, 3), axis=0)\n",
    "\n",
    "\n",
    "print(\"\\nEuclidean distance between x values of reconstructed x_tick_homog and original:\")\n",
    "print(euclidean(x_tick_from_x[:, 0], x_tick_homog[:, 0]))\n",
    "print(\"\\nEuclidean distance between y values of reconstructed x_tick_homog and original:\")\n",
    "print(euclidean(x_tick_from_x[:, 1], x_tick_homog[:, 1]))\n"
   ]
  },
  {
   "cell_type": "code",
   "execution_count": null,
   "metadata": {
    "collapsed": false,
    "scrolled": true
   },
   "outputs": [],
   "source": [
    "plt.figure(figsize=(20,10))\n",
    "plt.subplot(1,2,1)\n",
    "plt.imshow(img1, cmap='gray')\n",
    "plt.subplot(1,2,2)\n",
    "plt.imshow(img2, cmap='gray')"
   ]
  },
  {
   "cell_type": "code",
   "execution_count": null,
   "metadata": {
    "collapsed": false
   },
   "outputs": [],
   "source": [
    "x_range, y_range = img2.shape\n",
    "img_reconstruct = np.zeros((x_range, y_range))\n",
    "for x in range(x_range):\n",
    "    for y in range(y_range):\n",
    "        x_tick, y_tick, w = np.dot(H, np.transpose([x, y, 1.]))\n",
    "        x_tick = int(np.round(x_tick))\n",
    "        y_tick = int(np.round(y_tick))\n",
    "        if x_tick < x_range and y_tick < y_range:\n",
    "            img_reconstruct[x_tick, y_tick] = img2[x, y]"
   ]
  },
  {
   "cell_type": "markdown",
   "metadata": {},
   "source": [
    "The following image is transformed using the calculated matrix. The color value of each pixel in img2 is copied to the reconstructed image. The coordinate of the pixel is the reconstructed image is found from the dot product of the corresponding pixel coordinates in img2 and H:"
   ]
  },
  {
   "cell_type": "code",
   "execution_count": null,
   "metadata": {
    "collapsed": false,
    "scrolled": false
   },
   "outputs": [],
   "source": [
    "plt.figure(figsize=(20,10))\n",
    "plt.subplot(1,2,1)\n",
    "plt.imshow(img1, cmap='gray')\n",
    "plt.subplot(1,2,2)\n",
    "plt.imshow(img_reconstruct, cmap='gray')"
   ]
  },
  {
   "cell_type": "markdown",
   "metadata": {},
   "source": [
    "I couldn't find any built-in functin to test the method against."
   ]
  }
 ],
 "metadata": {
  "kernelspec": {
   "display_name": "Python 3",
   "language": "python",
   "name": "python3"
  },
  "language_info": {
   "codemirror_mode": {
    "name": "ipython",
    "version": 3
   },
   "file_extension": ".py",
   "mimetype": "text/x-python",
   "name": "python",
   "nbconvert_exporter": "python",
   "pygments_lexer": "ipython3",
   "version": "3.5.2"
  }
 },
 "nbformat": 4,
 "nbformat_minor": 0
}
