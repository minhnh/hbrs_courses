{
 "cells": [
  {
   "cell_type": "code",
   "execution_count": null,
   "metadata": {
    "collapsed": true
   },
   "outputs": [],
   "source": [
    "import numpy as np\n",
    "import cv2"
   ]
  },
  {
   "cell_type": "code",
   "execution_count": null,
   "metadata": {
    "collapsed": false
   },
   "outputs": [],
   "source": [
    "lines_straight = np.genfromtxt('shelf0straightwithLinesPoints.csv', delimiter=',', usecols=(1,2))\n",
    "lines_rrstraight = np.genfromtxt('shelfrrstraightwithLinesPoints.csv', delimiter=',', usecols=(1,2))"
   ]
  },
  {
   "cell_type": "code",
   "execution_count": null,
   "metadata": {
    "collapsed": false
   },
   "outputs": [],
   "source": [
    "print(lines_rrstraight.shape)\n",
    "print(lines_straight.shape)\n",
    "min(len(lines_rrstraight), len(lines_straight))"
   ]
  },
  {
   "cell_type": "code",
   "execution_count": null,
   "metadata": {
    "collapsed": false
   },
   "outputs": [],
   "source": [
    "def generate_matrix(points1, points2):\n",
    "    point_pair_index = 0\n",
    "    matrix = None\n",
    "    while point_pair_index < min(len(lines_rrstraight), len(lines_straight)):\n",
    "        matrix_row = generate_matrix_row12(points1[0], points1[1], points2[0], points2[1])\n",
    "        matrix = matrix_row if matrix is None else np.append(matrix, matrix_row, axis=0)\n",
    "        point_pair_index += 2\n",
    "    return matrix\n",
    "\n",
    "\n",
    "def generate_matrix_row12(start1, end1, start2, end2):\n",
    "    \"\"\"\n",
    "    Equation for each row:\n",
    "    matrix_row1 = [A*x_s1, A*y_s1, A, B*x_s1, B*y_s1, B, C*x_s1, C*y_s1, C]\n",
    "    matrix_row2 = [A*x_e1, A*y_e1, A, B*x_e1, B*y_e1, B, C*x_e1, C*y_e1, C], where\n",
    "    A = y_s2 - y_e2\n",
    "    B = x_e2 - x_s2\n",
    "    C = x_s2*y_e2 - x_e2*y_s2\n",
    "    \"\"\"\n",
    "    constant_a = start2[1] - end2[1]\n",
    "    constant_b = end2[0] - start2[0]\n",
    "    constant_c = start2[0] * end2[1] - end2[0] * start2[1]\n",
    "    matrix_row1 = np.array([constant_a * start1[0], constant_a * start1[1], constant_a,\n",
    "                            constant_b * start1[0], constant_b * start1[1], constant_b,\n",
    "                            constant_c * start1[0], constant_c * start1[1], constant_c])\n",
    "    matrix_row2 = np.array([constant_a * end1[0],   constant_a * end1[1],   constant_a,\n",
    "                            constant_b * end1[0],   constant_b * end1[1],   constant_b,\n",
    "                            constant_c * end1[0],   constant_c * end1[1],   constant_c])\n",
    "    return np.append(matrix_row1.reshape(1, len(matrix_row1)),\n",
    "                     matrix_row2.reshape(1, len(matrix_row2)),\n",
    "                     axis=0)\n",
    "\n",
    "\n",
    "matrix_m = generate_matrix(lines_straight, lines_rrstraight)\n",
    "print(matrix_m.shape)"
   ]
  },
  {
   "cell_type": "code",
   "execution_count": null,
   "metadata": {
    "collapsed": false
   },
   "outputs": [],
   "source": [
    "u, s, v = np.linalg.svd(matrix_m, full_matrices=False)\n",
    "\n",
    "homography = v[np.argmin(s)].reshape(3, 3)\n",
    "homography = homography / homography[2, 2]\n",
    "\n",
    "print(homography)\n",
    "np.savetxt('shelfhomo.csv', homography, delimiter=',')"
   ]
  },
  {
   "cell_type": "code",
   "execution_count": null,
   "metadata": {
    "collapsed": false
   },
   "outputs": [],
   "source": [
    "def euclidean_squared(x, y):\n",
    "    \"\"\"Squared euclidean distance between 2 1D arrays\"\"\"\n",
    "    return np.sum(np.subtract(x, y) ** 2)\n",
    "\n",
    "\n",
    "def calculate_transfer_error_symmetric(x, x_tick, homography):\n",
    "    \"\"\"\n",
    "    Calculate symmetric transfer error between 2 similar points using a given homography\n",
    "    d = sqrt(d(x, x'.inv(H))^2 + d(x', x.H)^2)\n",
    "\n",
    "    :param x: (1, 2) array of coordinates of ONE original point\n",
    "    :param x_tick: (1, 2) array of coordinates of ONE similar point\n",
    "    :param homography: homography matrix of the transformation\n",
    "    :return: symmetric transfer error\n",
    "    \"\"\"\n",
    "    x_tick_transformed = np.dot(homography, np.append(x, 1.))\n",
    "    x_transformed = np.dot(np.linalg.inv(homography), np.append(x_tick, 1.))\n",
    "    squared_distance = euclidean_squared(x, x_transformed[:2]) + euclidean_squared(x_tick, x_tick_transformed[:2])\n",
    "\n",
    "    return np.sqrt(squared_distance)\n",
    "\n",
    "error = 0.0\n",
    "for i in range(10):\n",
    "    error += calculate_transfer_error_symmetric(lines_rrstraight[i, :2], lines_straight[i, :2], homography)\n",
    "print(error)"
   ]
  },
  {
   "cell_type": "markdown",
   "metadata": {},
   "source": [
    "A large number of matching points would allow recovery from bad matches. "
   ]
  },
  {
   "cell_type": "code",
   "execution_count": null,
   "metadata": {
    "collapsed": false
   },
   "outputs": [],
   "source": [
    "def make_homog(point):\n",
    "    if len(point) == 2:\n",
    "        return np.append(point,[1])\n",
    "    elif len(point) == 3:\n",
    "        point = np.array(point,dtype=float)\n",
    "        point = point/point[-1]\n",
    "        return point\n",
    "    else:\n",
    "        print(\"Unknown size of point \" , point)\n",
    "        return -1"
   ]
  },
  {
   "cell_type": "code",
   "execution_count": null,
   "metadata": {
    "collapsed": false
   },
   "outputs": [],
   "source": [
    "b1 = make_homog(lines_straight[10])\n",
    "t1 = make_homog(lines_straight[11])\n",
    "b2 = make_homog(lines_straight[4])\n",
    "t2 = make_homog(lines_straight[6])\n",
    "horizon1 = make_homog(lines_straight[12])\n",
    "horizon2 = make_homog(lines_straight[13])\n",
    "\n",
    "print('\\n'.join([str(b1),\n",
    "                 str(t1),\n",
    "                 str(b2),\n",
    "                 str(t2),\n",
    "                 str(horizon1),\n",
    "                 str(horizon2)]))"
   ]
  },
  {
   "cell_type": "code",
   "execution_count": null,
   "metadata": {
    "collapsed": false
   },
   "outputs": [],
   "source": [
    "# Find horizontal line through horizon1 and horizon2\n",
    "horizon = np.cross(horizon2, horizon1)\n",
    "horizon_ = make_homog(horizon)\n",
    "print(\"horizon : \" , horizon_)\n",
    "\n",
    "# Find b1b2\n",
    "b1b2 = np.cross(b1, b2)\n",
    "b1b2_ = make_homog(b1b2)\n",
    "print(\"Line through b1, b2: \", b1b2_)\n",
    "\n",
    "# Intersection u between b1b2 and horizon (vanishing point):\n",
    "u = make_homog(np.cross(b1b2_, horizon_))\n",
    "print(\"Intersection u: \", u)\n",
    "\n",
    "# Find v intersection of b2t2, b1t1\n",
    "b2t2 = make_homog(np.cross(b2, t2))\n",
    "b1t1 = make_homog(np.cross(b1, t1))\n",
    "v = make_homog(np.cross(b2t2, b1t1))\n",
    "print(\"Intersection v of b2t2, b1t1: \", v)\n",
    "\n",
    "# Find transfered point t1_tilda, intersection of t1u and vb2\n",
    "t1u = make_homog(np.cross(t1, u))\n",
    "vb2 = make_homog(np.cross(v, b2))\n",
    "t1_tilda = make_homog(np.cross(t1u, vb2))\n",
    "print(\"Transfered point t1_tilda: \", t1_tilda)\n",
    "\n"
   ]
  },
  {
   "cell_type": "code",
   "execution_count": null,
   "metadata": {
    "collapsed": false
   },
   "outputs": [],
   "source": [
    "from matplotlib import pyplot as plt\n",
    "%matplotlib inline\n",
    "\n",
    "img_data = cv2.imread('shelf0straightwithLines.jpg')\n",
    "plt.figure(figsize=(15,15))\n",
    "plt.imshow(img_data)\n",
    "plt.scatter(t1_tilda[0],t1_tilda[1])\n",
    "plt.show()"
   ]
  },
  {
   "cell_type": "code",
   "execution_count": null,
   "metadata": {
    "collapsed": false
   },
   "outputs": [],
   "source": [
    "from scipy.spatial.distance import euclidean\n",
    "\n",
    "tilda_t1_dist = [euclidean(t1_tilda, b2), 1]\n",
    "t2_dist = [euclidean(t2, b2), 1]\n",
    "v_dist = [euclidean(v, b2), 1]\n",
    "\n",
    "print (\"V : \", v_dist)\n",
    "\n",
    "H = [[1, v_dist[0]], [0,1]]\n",
    "print(\"H : \" , H)\n",
    "\n",
    "T2 = np.dot(H, v_dist)\n",
    "print( \"T2 : \" , T2)\n",
    "\n",
    "# Ratio of distance\n",
    "d1_d2 = (tilda_t1_dist[0]*(v_dist[0] - t2_dist[0]))/(t2_dist[0]*(v_dist[0] - tilda_t1_dist[0]))\n",
    "print(\"Ratio of distance d1/d2 = \" , d1_d2)\n",
    "\n",
    "calculated_dist = 125/d1_d2\n",
    "\n",
    "print(\"Length of 5-7 in cm : \" , calculated_dist , \"cm\")"
   ]
  },
  {
   "cell_type": "code",
   "execution_count": null,
   "metadata": {
    "collapsed": false
   },
   "outputs": [],
   "source": [
    "print(\"Error in cm: \", (32.7 - calculated_dist))"
   ]
  }
 ],
 "metadata": {
  "kernelspec": {
   "display_name": "Python 3",
   "language": "python",
   "name": "python3"
  },
  "language_info": {
   "codemirror_mode": {
    "name": "ipython",
    "version": 3
   },
   "file_extension": ".py",
   "mimetype": "text/x-python",
   "name": "python",
   "nbconvert_exporter": "python",
   "pygments_lexer": "ipython3",
   "version": "3.5.2"
  }
 },
 "nbformat": 4,
 "nbformat_minor": 0
}
