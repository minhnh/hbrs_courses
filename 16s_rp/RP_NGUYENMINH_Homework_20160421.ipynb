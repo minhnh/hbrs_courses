{
 "cells": [
  {
   "cell_type": "markdown",
   "metadata": {},
   "source": [
    "## Questions\n",
    "\n",
    "1. Which distribution does the standard deviation in equation for RANSAC error threshold $t = 5.99\\sigma^2$ represent?\n",
    "\n",
    "A: I'm investigating"
   ]
  },
  {
   "cell_type": "code",
   "execution_count": null,
   "metadata": {
    "collapsed": false
   },
   "outputs": [],
   "source": [
    "# Hard path reference, can be run without installing robot_perception\n",
    "from robot_perception.src.homography_estimation import normalized_dlt, util, ransac\n",
    "# After installing robot_perception package can run this directly\n",
    "#from homography_estimation import normalized_dlt, util\n",
    "import numpy as np\n",
    "import random\n",
    "from scipy.ndimage import imread\n",
    "import matplotlib.pyplot as plt\n",
    "%matplotlib inline\n",
    "\n",
    "\n",
    "img1 = imread(\"boat/img1+points.png\")\n",
    "img2 = imread(\"boat/img2+points.png\")\n",
    "\n",
    "with open(\"boat/homography.txt\") as f:\n",
    "    lines = f.readlines()\n",
    "\n",
    "# Get the text coordinates\n",
    "lines[0] = lines[0][lines[0].find('[') + 1:lines[0].find(']')]\n",
    "lines[1] = lines[1][lines[1].find('[') + 1:lines[1].find(']')]\n",
    "\n",
    "# Split coordinate pairs\n",
    "lines[0] = lines[0].split(';')\n",
    "lines[1] = lines[1].split(';')\n",
    "\n",
    "# Map coordinates to 2D int arrays\n",
    "x = []\n",
    "x_tick = []\n",
    "for i in range(len(lines[0])):\n",
    "    x.append(list(map(int, lines[0][i].split(','))))\n",
    "    x_tick.append(list(map(int, lines[1][i].split(','))))\n",
    "\n",
    "x = np.array(x)\n",
    "x_tick = np.array(x_tick)"
   ]
  },
  {
   "cell_type": "code",
   "execution_count": null,
   "metadata": {
    "collapsed": false
   },
   "outputs": [],
   "source": [
    "H = normalized_dlt.get_homography(x, x_tick)\n",
    "#print(np.linalg.inv(H))\n",
    "\n",
    "average_error = 0.\n",
    "for i in range(len(x)):\n",
    "    distance = util.calculate_transfer_error_symmetric(x[i], x_tick[i], H)\n",
    "    #print(distance)\n",
    "    average_error = average_error + distance\n",
    "\n",
    "average_error = average_error / len(x)"
   ]
  },
  {
   "cell_type": "code",
   "execution_count": null,
   "metadata": {
    "collapsed": false
   },
   "outputs": [],
   "source": [
    "ransac_inst = ransac.RANSAC(average_error*45, 0.4)\n",
    "inliers, homography_ransac = ransac_inst.get_homography(x, x_tick)\n",
    "print(inliers)\n",
    "print(homography_ransac)"
   ]
  },
  {
   "cell_type": "code",
   "execution_count": null,
   "metadata": {
    "collapsed": false,
    "scrolled": true
   },
   "outputs": [],
   "source": [
    "\n",
    "plt.figure(figsize=(20,10))\n",
    "plt.subplot(1,2,1)\n",
    "util.plot_lines_on_image(img1, x, x_tick)\n",
    "plt.subplot(1,2,2)\n",
    "util.plot_lines_on_image(img1, x[inliers], x_tick[inliers])\n",
    "plt.show()"
   ]
  },
  {
   "cell_type": "code",
   "execution_count": null,
   "metadata": {
    "collapsed": false
   },
   "outputs": [],
   "source": [
    "img2_recon_ransac = util.transform_image(img2, homography_ransac)\n",
    "\n",
    "plt.figure(figsize=(20,10))\n",
    "plt.subplot(1,2,1)\n",
    "plt.imshow(img1, cmap='gray')\n",
    "plt.subplot(1,2,2)\n",
    "plt.imshow(img2_recon_ransac, cmap='gray')"
   ]
  },
  {
   "cell_type": "code",
   "execution_count": null,
   "metadata": {
    "collapsed": false
   },
   "outputs": [],
   "source": [
    "img2_recon = util.transform_image(img2, H)\n",
    "\n",
    "plt.figure(figsize=(20,10))\n",
    "plt.subplot(1,2,1)\n",
    "plt.imshow(img1, cmap='gray')\n",
    "plt.subplot(1,2,2)\n",
    "plt.imshow(img2_recon, cmap='gray')"
   ]
  }
 ],
 "metadata": {
  "kernelspec": {
   "display_name": "Python 3",
   "language": "python",
   "name": "python3"
  },
  "language_info": {
   "codemirror_mode": {
    "name": "ipython",
    "version": 3
   },
   "file_extension": ".py",
   "mimetype": "text/x-python",
   "name": "python",
   "nbconvert_exporter": "python",
   "pygments_lexer": "ipython3",
   "version": "3.5.2"
  }
 },
 "nbformat": 4,
 "nbformat_minor": 0
}
