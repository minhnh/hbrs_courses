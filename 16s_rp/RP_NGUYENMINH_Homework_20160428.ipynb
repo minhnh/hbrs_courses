{
 "cells": [
  {
   "cell_type": "code",
   "execution_count": 1,
   "metadata": {
    "collapsed": true
   },
   "outputs": [],
   "source": [
    "# Hard path reference, can be run without installing robot_perception\n",
    "from robot_perception.src.homography_estimation import normalized_dlt, util, ransac\n",
    "# After installing robot_perception package can run this directly\n",
    "#from homography_estimation import normalized_dlt, util\n",
    "import numpy as np\n",
    "import random\n",
    "from scipy.ndimage import imread\n",
    "import matplotlib.pyplot as plt\n",
    "%matplotlib inline\n",
    "\n",
    "\n",
    "img1 = imread(\"boat/img1+points.png\")\n",
    "img2 = imread(\"boat/img2+points.png\")\n",
    "\n",
    "with open(\"boat/homography.txt\") as f:\n",
    "    lines = f.readlines()\n",
    "\n",
    "# Get the text coordinates\n",
    "lines[0] = lines[0][lines[0].find('[') + 1:lines[0].find(']')]\n",
    "lines[1] = lines[1][lines[1].find('[') + 1:lines[1].find(']')]\n",
    "\n",
    "# Split coordinate pairs\n",
    "lines[0] = lines[0].split(';')\n",
    "lines[1] = lines[1].split(';')\n",
    "\n",
    "# Map coordinates to 2D int arrays\n",
    "x = []\n",
    "x_tick = []\n",
    "for i in range(len(lines[0])):\n",
    "    x.append(list(map(int, lines[0][i].split(','))))\n",
    "    x_tick.append(list(map(int, lines[1][i].split(','))))\n",
    "\n",
    "x = np.array(x)\n",
    "x_tick = np.array(x_tick)"
   ]
  },
  {
   "cell_type": "code",
   "execution_count": 1,
   "metadata": {
    "collapsed": true
   },
   "outputs": [],
   "source": [
    "def gold_standard():\n",
    "    pass\n",
    "\n",
    "\n",
    "def get_sampson_corrected_points(x, homography):\n",
    "    \"\"\"\n",
    "    \n",
    "    :param x: \n",
    "    :param homography: \n",
    "    :return: \n",
    "    \"\"\"\n",
    "    jjt = np.zeros((2, 2))\n",
    "\n",
    "    e_i = np.zeros(len(x))\n",
    "    for i in range(len(x)):\n",
    "        e_i[i] = 1\n",
    "        partial_derivative = evaluate_cost_function(x + e_i, homography) - evaluate_cost_function(x, homography)\n",
    "        jjt += np.dot(partial_derivative, np.transpose(partial_derivative))\n",
    "        e_i[i] = 0\n",
    "\n",
    "    delta_x = 0\n",
    "    return x + delta_x\n",
    "\n",
    "\n",
    "def evaluate_cost_function(x, homography):\n",
    "    \"\"\"\n",
    "    Evaluate cost function Ah at X\n",
    "    :param x: 4-vector (x, y, x', y')\n",
    "    :param homography: calculated homography matrix\n",
    "    :return: value of cost function as (2, 1) matrix\n",
    "    \"\"\"\n",
    "    matrix_a = normalized_dlt.construct_A_i_matrix(x[:2], x[2:])\n",
    "    return np.dot(matrix_a, np.reshape(homography, (9, 1)))"
   ]
  }
 ],
 "metadata": {
  "kernelspec": {
   "display_name": "IPython (Python 3)",
   "language": "python",
   "name": "python3"
  },
  "language_info": {
   "codemirror_mode": {
    "name": "ipython",
    "version": 3.0
   },
   "file_extension": ".py",
   "mimetype": "text/x-python",
   "name": "python",
   "nbconvert_exporter": "python",
   "pygments_lexer": "ipython3",
   "version": "3.4.3"
  }
 },
 "nbformat": 4,
 "nbformat_minor": 0
}