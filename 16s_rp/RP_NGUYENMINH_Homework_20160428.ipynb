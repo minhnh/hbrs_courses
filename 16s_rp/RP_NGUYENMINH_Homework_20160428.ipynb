{
 "cells": [
  {
   "cell_type": "code",
   "execution_count": null,
   "metadata": {
    "collapsed": true
   },
   "outputs": [],
   "source": [
    "# Hard path reference, can be run without installing robot_perception\n",
    "from robot_perception.src.homography_estimation import normalized_dlt, util\n",
    "# After installing robot_perception package can run this directly\n",
    "#from homography_estimation import normalized_dlt, util\n",
    "import numpy as np\n",
    "import random\n",
    "from scipy.ndimage import imread\n",
    "import matplotlib.pyplot as plt\n",
    "%matplotlib inline\n",
    "\n",
    "\n",
    "img1 = imread(\"boat/img1+points.png\")\n",
    "img2 = imread(\"boat/img2+points.png\")\n",
    "\n",
    "with open(\"boat/homography.txt\") as f:\n",
    "    lines = f.readlines()\n",
    "\n",
    "# Get the text coordinates\n",
    "lines[0] = lines[0][lines[0].find('[') + 1:lines[0].find(']')]\n",
    "lines[1] = lines[1][lines[1].find('[') + 1:lines[1].find(']')]\n",
    "\n",
    "# Split coordinate pairs\n",
    "lines[0] = lines[0].split(';')\n",
    "lines[1] = lines[1].split(';')\n",
    "\n",
    "# Map coordinates to 2D int arrays\n",
    "x = []\n",
    "x_tick = []\n",
    "for i in range(len(lines[0])):\n",
    "    x.append(list(map(int, lines[0][i].split(','))))\n",
    "    x_tick.append(list(map(int, lines[1][i].split(','))))\n",
    "\n",
    "x = np.array(x)\n",
    "x_tick = np.array(x_tick)"
   ]
  },
  {
   "cell_type": "code",
   "execution_count": null,
   "metadata": {
    "collapsed": true
   },
   "outputs": [],
   "source": [
    "def gold_standard():\n",
    "    pass\n",
    "\n",
    "\n",
    "def get_sampson_corrected_points(x, homography):\n",
    "    \"\"\"\n",
    "    Implement Sampson error correction from equation 4.11, section 4.2.6,\n",
    "    Hartley's Multiple View Geometry (MVG):\n",
    "        delta_x = - J.T (JJ.T)^-1 epsilon \n",
    "    Refer to exercise (vii), section 4.9.2 in MVG for JJ.T calculation.\n",
    "    Note: epsilon is identical to the cost function evaluated at X\n",
    "    :param x: 4-vector (x, y, x', y')\n",
    "    :param homography: calculated homography to be evaluated\n",
    "    :return: adjusted (x, y), or x_hat\n",
    "    \"\"\"\n",
    "    epsilon = evaluate_cost_function(x, homography)\n",
    "\n",
    "    jacobian = None\n",
    "    e_i = np.zeros(len(x))\n",
    "    for i in range(len(x)):\n",
    "        e_i[i] = 1\n",
    "        j_i = evaluate_cost_function(x + e_i, homography) - epsilon\n",
    "        if jacobian is None:\n",
    "            jacobian = j_i\n",
    "        else:\n",
    "            jacobian = np.append(jacobian, j_i, axis=1)\n",
    "        e_i[i] = 0\n",
    "\n",
    "    jjt = np.dot(jacobian, np.transpose(jacobian))\n",
    "    lambd = np.linalg.lstsq(jjt, -epsilon)[0]\n",
    "    delta_x = np.dot(np.transpose(jacobian), lambd).flatten()\n",
    "    x_hat = x + delta_x\n",
    "\n",
    "    return x_hat[:2]\n",
    "\n",
    "\n",
    "def evaluate_cost_function(x, homography):\n",
    "    \"\"\"\n",
    "    Evaluate cost function Ah at X\n",
    "    :param x: 4-vector (x, y, x', y')\n",
    "    :param homography: calculated homography matrix\n",
    "    :return: value of cost function as (2, 1) matrix\n",
    "    \"\"\"\n",
    "    matrix_a = normalized_dlt.construct_A_i_matrix(np.append(x[:2], 1.),\n",
    "                                                   np.append(x[2:], 1.))\n",
    "    return np.dot(matrix_a, np.reshape(homography, (9, 1)))"
   ]
  },
  {
   "cell_type": "code",
   "execution_count": null,
   "metadata": {
    "collapsed": false
   },
   "outputs": [],
   "source": [
    "H = normalized_dlt.get_homography(x, x_tick)\n",
    "#print(H)\n",
    "print(np.append(x[3, :], x_tick[3, :]))\n",
    "\n",
    "print(get_sampson_corrected_points(np.append(x[3, :], x_tick[3, :]), H))"
   ]
  }
 ],
 "metadata": {
  "kernelspec": {
   "display_name": "Python 3",
   "language": "python",
   "name": "python3"
  },
  "language_info": {
   "codemirror_mode": {
    "name": "ipython",
    "version": 3
   },
   "file_extension": ".py",
   "mimetype": "text/x-python",
   "name": "python",
   "nbconvert_exporter": "python",
   "pygments_lexer": "ipython3",
   "version": "3.5.2"
  }
 },
 "nbformat": 4,
 "nbformat_minor": 0
}
